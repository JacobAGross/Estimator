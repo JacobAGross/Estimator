{
 "cells": [
  {
   "cell_type": "markdown",
   "metadata": {},
   "source": [
    "# Estimator \n",
    "### Last Modified: August 24, 2020\n",
    "\n",
    "To run, press SHIFT+ENTER on each cell. <br>\n",
    "To get to next cell, press the down arrow after clicking on a blank spot of the cell. <br>\n",
    "<b> Likewise, you can click on \"Restart & Run All\" under the Kernel menu (may need to re-run cells with dropdown boxes)</b><br>\n",
    "Cells can be toggled on and off by running the cell preceding this message.\n",
    "## If asked to \"Try and re-run cell\", then click on a blank spot of the cell until no dropdown box or button is selected and press SHIFT+ENTER"
   ]
  },
  {
   "cell_type": "code",
   "execution_count": 2,
   "metadata": {},
   "outputs": [
    {
     "name": "stdout",
     "output_type": "stream",
     "text": [
      "Go to https://docs.google.com/spreadsheets/d/1EhbS_vM28BQWW2SVCS1RefWD9tzDrWbYT2MdSDlobVM to view Estimator Sheet\n"
     ]
    }
   ],
   "source": [
    "# Widgets\n",
    "from IPython.display import display, clear_output, HTML, FileLink\n",
    "import ipywidgets as widgets\n",
    "from ipywidgets import Layout\n",
    "\n",
    "# Imports\n",
    "import pandas as pd\n",
    "import numpy as np\n",
    "import math\n",
    "\n",
    "import io\n",
    "import requests\n",
    "\n",
    "import time\n",
    "from datetime import date\n",
    "\n",
    "import gspread\n",
    "from oauth2client.service_account import ServiceAccountCredentials\n",
    "\n",
    "# Variables\n",
    "scope = \"https://spreadsheets.google.com/feeds\"\n",
    "credentials = ServiceAccountCredentials.from_json_keyfile_name(\"matcher-272116-8801bce55bcb.json\", scope)\n",
    "gs = gspread.authorize(credentials)\n",
    "\n",
    "estimator_sheet_url = \"https://docs.google.com/spreadsheets/d/1EhbS_vM28BQWW2SVCS1RefWD9tzDrWbYT2MdSDlobVM\"\n",
    "\n",
    "# Print Matcher Sheet URL\n",
    "print(\"Go to {0} to view Estimator Sheet\".format(estimator_sheet_url))"
   ]
  },
  {
   "cell_type": "code",
   "execution_count": 3,
   "metadata": {},
   "outputs": [],
   "source": [
    "# Allows window height to be larger\n",
    "# Doesn't seem to work in Binder?\n",
    "HTML('''\n",
    "<style>\n",
    ".output_wrapper, .output {\n",
    "    height:auto !important;\n",
    "    max-height:50000px;  /* your desired max-height here */\n",
    "}\n",
    ".output_scroll {\n",
    "    box-shadow:none !important;\n",
    "    webkit-box-shadow:none !important;\n",
    "}\n",
    "</style>''');"
   ]
  },
  {
   "cell_type": "code",
   "execution_count": 4,
   "metadata": {},
   "outputs": [
    {
     "data": {
      "text/html": [
       "<script>\n",
       "code_show=true;\n",
       "function code_toggle() {\n",
       "    if (code_show){\n",
       "    $('div.input').hide();\n",
       "    } else {\n",
       "    $('div.input').show();\n",
       "    }\n",
       "    code_show = !code_show\n",
       "}\n",
       "$( document ).ready(code_toggle);\n",
       "</script>\n",
       "<form action=\"javascript:code_toggle()\"><input type=\"submit\" value=\"Click here to toggle on/off the code.\"></form>\n"
      ],
      "text/plain": [
       "<IPython.core.display.HTML object>"
      ]
     },
     "execution_count": 4,
     "metadata": {},
     "output_type": "execute_result"
    }
   ],
   "source": [
    "# Toggle Code Button\n",
    "HTML('''<script>\n",
    "code_show=true;\n",
    "function code_toggle() {\n",
    "    if (code_show){\n",
    "    $('div.input').hide();\n",
    "    } else {\n",
    "    $('div.input').show();\n",
    "    }\n",
    "    code_show = !code_show\n",
    "}\n",
    "$( document ).ready(code_toggle);\n",
    "</script>\n",
    "<form action=\"javascript:code_toggle()\"><input type=\"submit\" value=\"Click here to toggle on/off the code.\"></form>\n",
    "''')"
   ]
  },
  {
   "cell_type": "markdown",
   "metadata": {},
   "source": [
    "# Journey Data"
   ]
  },
  {
   "cell_type": "code",
   "execution_count": 11,
   "metadata": {},
   "outputs": [
    {
     "data": {
      "application/vnd.jupyter.widget-view+json": {
       "model_id": "8e921524315e4e91bbd6ee1088429718",
       "version_major": 2,
       "version_minor": 0
      },
      "text/plain": [
       "VBox(children=(Button(description='Update Current Journeys', layout=Layout(width='200px'), style=ButtonStyle()…"
      ]
     },
     "metadata": {},
     "output_type": "display_data"
    }
   ],
   "source": [
    "# Creates current journeys update button and corresponding output\n",
    "update_current_journeys_button = widgets.Button(description = \"Update Current Journeys\", layout = Layout(width = \"200px\"))\n",
    "out_update_current_journeys = widgets.Output()\n",
    "\n",
    "def update_current_journeys(_) :\n",
    "    with out_update_current_journeys :\n",
    "        # Clears printed output\n",
    "        clear_output()\n",
    "        \n",
    "        # Updates current journeys\n",
    "        print(\"Updating Current_Journeys\", end = \"\\r\")\n",
    "        \n",
    "        # Tells you how long it took to run\n",
    "        # Initializes start time\n",
    "        start_time = time.time()\n",
    "        \n",
    "        # Opens and clears current journeys sheet\n",
    "        current_journeys_sheet = gs.open_by_url(estimator_sheet_url).worksheet(\"Current_Journeys\")\n",
    "        current_journeys_sheet.clear()\n",
    "        \n",
    "        # Updates Journey worksheet with cyfe board\n",
    "        current_journeys_sheet.update(\"A1\", gs.open_by_url(estimator_sheet_url).worksheet(\"URLs\").get(\"B1\")[0][0][1:], raw = False)\n",
    "        \n",
    "        # Waits for cell A1 to be the value \"journey_id\"\n",
    "        while (current_journeys_sheet.acell(\"A1\").value != \"#N/A\" and current_journeys_sheet.acell(\"A1\").value != \"job_id\") :\n",
    "            time.sleep(5)\n",
    "            \n",
    "        # Copies cells to save journey\n",
    "        current_journeys_sheet.update(\"A1:R\", current_journeys_sheet.get(\"A1:R\"), raw = False)\n",
    "        \n",
    "        # Prints out how long it took to run\n",
    "        print(\"Updated Current_Journeys Worksheet in {0:.3f} secs to run\".format(time.time() - start_time))\n",
    "        # Prints if cyfe board was empty\n",
    "        if current_journeys_sheet.acell(\"A1\").value == \"#N/A\" :\n",
    "            print(\"No journeys loaded\")\n",
    "            \n",
    "        # Clears results in Information\n",
    "        gs.open_by_url(estimator_sheet_url).values_clear(\"Information!M4:R\")\n",
    "            \n",
    "# Sets current journeys update button with function\n",
    "update_current_journeys_button.on_click(update_current_journeys)\n",
    "\n",
    "# Displays widgets\n",
    "widgets.VBox([update_current_journeys_button, out_update_current_journeys])"
   ]
  },
  {
   "cell_type": "markdown",
   "metadata": {},
   "source": [
    "# Estimate Number of Views and Expressions"
   ]
  },
  {
   "cell_type": "code",
   "execution_count": null,
   "metadata": {},
   "outputs": [],
   "source": []
  }
 ],
 "metadata": {
  "hide_input": false,
  "kernelspec": {
   "display_name": "Python 3",
   "language": "python",
   "name": "python3"
  },
  "language_info": {
   "codemirror_mode": {
    "name": "ipython",
    "version": 3
   },
   "file_extension": ".py",
   "mimetype": "text/x-python",
   "name": "python",
   "nbconvert_exporter": "python",
   "pygments_lexer": "ipython3",
   "version": "3.6.9"
  }
 },
 "nbformat": 4,
 "nbformat_minor": 4
}
